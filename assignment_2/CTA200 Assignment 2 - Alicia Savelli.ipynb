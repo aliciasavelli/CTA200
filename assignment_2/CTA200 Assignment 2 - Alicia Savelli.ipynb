{
 "cells": [
  {
   "cell_type": "markdown",
   "metadata": {},
   "source": [
    "# CTA Assignment 2 Alicia Savelli"
   ]
  },
  {
   "cell_type": "markdown",
   "metadata": {},
   "source": [
    "#### Question 1"
   ]
  },
  {
   "cell_type": "code",
   "execution_count": null,
   "metadata": {},
   "outputs": [],
   "source": [
    "import numpy as np\n",
    "import matplotlib as mpl\n",
    "import matplotlib.pyplot as plt"
   ]
  },
  {
   "cell_type": "code",
   "execution_count": null,
   "metadata": {},
   "outputs": [],
   "source": [
    "#function to be differentiated\n",
    "def func(x):\n",
    "    \"\"\"sine function\n",
    "    \n",
    "    Parameters:\n",
    "    x: independent variable\n",
    "    \n",
    "    Return:\n",
    "    sin(x)\"\"\"\n",
    "    return np.sin(x)"
   ]
  },
  {
   "cell_type": "code",
   "execution_count": null,
   "metadata": {},
   "outputs": [],
   "source": [
    "#First approximation of the derivative \n",
    "def deriv1(f,x0,h):\n",
    "    \"\"\"Approximation of derivative of function\n",
    "    \n",
    "    Parameters:\n",
    "    f: function\n",
    "    x0: point about which to calculate the derivative\n",
    "    h: infinitessimal step\n",
    "    \n",
    "    Returns:\n",
    "    Approximated derivative of f  \n",
    "    \"\"\"\n",
    "    return (f(x0+h)-f(x0))/h\n",
    "\n",
    "#derivative at x0=0.1\n",
    "print(deriv1(func,0.1,0.1))\n",
    "print(deriv1(func,0.1,0.001))\n",
    "print(deriv1(func,0.1,0.000000001))\n",
    "print(deriv1(func,0.1,1e-15))"
   ]
  },
  {
   "cell_type": "code",
   "execution_count": null,
   "metadata": {},
   "outputs": [],
   "source": [
    "#Second approximation of the derivative\n",
    "#First approximation of the derivative \n",
    "def deriv2(f,x0,h):\n",
    "    \"\"\"Approximation of derivative of function\n",
    "    \n",
    "    Parameters:\n",
    "    f: function\n",
    "    x0: point about which to calculate the derivative\n",
    "    h: finite step\n",
    "    \n",
    "    Returns:\n",
    "    Approximated derivative of f  \n",
    "    \"\"\"\n",
    "    return (f(x0+h)-f(x0-h))/(2*h)\n",
    "\n",
    "#derivative at x0=0.1\n",
    "print(deriv2(func,0.1,0.1))\n",
    "print(deriv2(func,0.1,0.001))\n",
    "print(deriv2(func,0.1,0.000000001))\n",
    "print(deriv2(func,0.1,1e-15))"
   ]
  },
  {
   "cell_type": "code",
   "execution_count": null,
   "metadata": {},
   "outputs": [],
   "source": [
    "h = np.linspace(0,1,10000) \n",
    "\n",
    "y1n = []\n",
    "y2n = []\n",
    "for i in range(len(h)):\n",
    "    y1n.append(deriv1(func,0.1,h[i])) #numerical derivative method 1\n",
    "    y2n.append(deriv2(func,0.1,h[i])) #numerical derivative method 2\n",
    "        \n",
    "ya = np.cos(0.1) #analytic derivative\n",
    "\n",
    "#plot error\n",
    "plt.loglog(h, abs(y1n-ya)/ya, 'g', label='Method 1')\n",
    "plt.loglog(h, abs(y2n-ya)/ya, label='Method 2')\n",
    "\n",
    "plt.legend()\n",
    "plt.xlabel(\"Log(Step size $h$)\")\n",
    "plt.ylabel(\"Log(Error)\")\n",
    "\n",
    "plt.savefig(\"q1.pdf\")\n",
    "plt.savefig(\"q1.eps\")\n",
    "plt.title(\"Error in Numerical Approximation of $d/dx$ sin($x$)\")\n",
    "\n",
    "plt.show()"
   ]
  },
  {
   "cell_type": "markdown",
   "metadata": {},
   "source": [
    "#### Question 2"
   ]
  },
  {
   "cell_type": "code",
   "execution_count": null,
   "metadata": {},
   "outputs": [],
   "source": [
    "#mandlebrot function\n",
    "def mandlebrot(x,y):\n",
    "    \"\"\"z_i+1 = z_i^2 + c\n",
    "    \n",
    "    Parameters:\n",
    "    x and y such that c = x + iy\n",
    "    \n",
    "    Returns: \n",
    "    div: boolean, does z at this point diverge after many iterations?\n",
    "    i: iteration at which this point diverges (i = 255 if div = False)\"\"\"\n",
    "    z = 0 #initial z = 0\n",
    "    div = False #boolean, does z diverge at point c = x +iy?\n",
    "    inf = 100 #\"infinity\" - if abs(z) > 100, we will say z diverges at c = x + iy\n",
    "    i = 0 #counting number\n",
    "    maxi = 255 #chosen because of RBG numbering\n",
    "    \n",
    "    #determine if z diverges for each c = x + iy for -2 < x,y < 2\n",
    "    #If z diverges, determine the iteration at which it diverges\n",
    "    while abs(z) < inf and i < maxi:\n",
    "        z = z*z + complex(x,y)\n",
    "                \n",
    "        if abs(z) > inf:\n",
    "            div = True\n",
    "        \n",
    "        i += 1\n",
    "\n",
    "    return div, i        "
   ]
  },
  {
   "cell_type": "code",
   "execution_count": null,
   "metadata": {},
   "outputs": [],
   "source": [
    "#generate x,y\n",
    "x = np.linspace(-2,2,2000)\n",
    "y = np.linspace(-2,2,2000)\n",
    "\n",
    "#store data from mandlebrot function in arrays\n",
    "data1 = np.empty((len(y),len(x)))\n",
    "data2 = np.empty((len(y),len(x)))\n",
    "for i, xx in enumerate(x):\n",
    "    for j, yy in enumerate(y):\n",
    "        data1[j][i] = mandlebrot(xx,yy)[0]\n",
    "        data2[j][i] = mandlebrot(xx,yy)[1]"
   ]
  },
  {
   "cell_type": "code",
   "execution_count": null,
   "metadata": {},
   "outputs": [],
   "source": [
    "#plot boolean div\n",
    "plt.figure(figsize = (12,12))\n",
    "plt.imshow(data1,interpolation=\"nearest\",cmap=\"Greys\")\n",
    "plt.savefig(\"q2a.pdf\")\n",
    "plt.savefig(\"q2a.eps\")"
   ]
  },
  {
   "cell_type": "code",
   "execution_count": null,
   "metadata": {},
   "outputs": [],
   "source": [
    "#plot iteration of div\n",
    "plt.figure(figsize = (12,12))\n",
    "plt.imshow(data2,interpolation=\"nearest\",cmap=\"viridis\")\n",
    "plt.colorbar()\n",
    "plt.savefig(\"q2b.pdf\")\n",
    "plt.savefig(\"q2b.eps\")"
   ]
  },
  {
   "cell_type": "markdown",
   "metadata": {},
   "source": [
    "#### Question 3"
   ]
  },
  {
   "cell_type": "code",
   "execution_count": null,
   "metadata": {},
   "outputs": [],
   "source": [
    "import numpy as np\n",
    "import matplotlib.pylab as plt\n",
    "from scipy.integrate import ode\n",
    "\n",
    "#system of DE\n",
    "def SIR(t, y, B, g, N):\n",
    "    \"\"\"SIR model of infectious diseases\n",
    "    \n",
    "    Parameters:\n",
    "    t: time\n",
    "    y: function of time : S susceptible, I infected, R removed\n",
    "    B: beta : transmission coefficient\n",
    "    g: gamma : inverse of average duration of infectious period\n",
    "    N: populatin size \n",
    "    \n",
    "    Returns:\n",
    "    system of ODE\"\"\"\n",
    "    \n",
    "    S, I, R = y\n",
    "    \n",
    "    return [-B*S*I/N, B*S*I/N-g*I, g*I]\n",
    "\n",
    "#IC \n",
    "y0 = [999, 1, 0]\n",
    "t0 = 0\n",
    "\n",
    "#choose B, g, N\n",
    "B = [0.9, 0.7, 0.5, 0.2]\n",
    "g = [0.1, 0.5, 0.9, 0.01]\n",
    "N = 1000\n",
    "\n",
    "# End time, timestep\n",
    "t_end = 200\n",
    "dt = 0.1 \n",
    "\n",
    "fig, ax = plt.subplots(2, 2, dpi=100, figsize=(10, 7))\n",
    "fig.suptitle('SIR Model for Infectious Disease')\n",
    "\n",
    "plt.subplots_adjust(left=0.1,\n",
    "                    bottom=0.1, \n",
    "                    right=0.9, \n",
    "                    top=0.9, \n",
    "                    wspace=0.4, \n",
    "                    hspace=0.4)\n",
    "\n",
    "for i in range(len(B)):\n",
    "    # Array to store the results\n",
    "    times = [t0]\n",
    "    res = [y0]\n",
    "    \n",
    "    solver = ode(SIR)\n",
    "    solver.set_integrator('dopri5')\n",
    "    solver.set_initial_value(y0, t0)\n",
    "    solver.set_f_params(B[i], g[i], N)\n",
    "\n",
    "    # Solve the equation\n",
    "    while solver.successful() and solver.t < t_end:\n",
    "        times.append(solver.t + dt)\n",
    "        res.append(solver.integrate(solver.t + dt))\n",
    "\n",
    "    S, I, R = np.array(res).T\n",
    "    times = np.array(times)\n",
    "\n",
    "    j = k = 0\n",
    "    if i == 0:\n",
    "        j = k = 0\n",
    "    if i == 1:\n",
    "        j = 0\n",
    "        k = 1\n",
    "    if i == 2:\n",
    "        j = 1\n",
    "        k = 0\n",
    "    if i == 3:\n",
    "        j = k = 1\n",
    "    \n",
    "    # plot the results \n",
    "    ax[j,k].plot(times, S, 'r', label='Susceptible')\n",
    "    ax[j,k].plot(times, I, 'g', label='Infected')\n",
    "    ax[j,k].plot(times, R, 'b', label='Recovered')\n",
    "\n",
    "    ax[j,k].legend()\n",
    "    ax[j,k].set_xlabel('Time passed $t$, days')\n",
    "    ax[j,k].set_ylabel('Number of individuals')\n",
    "    ax[j,k].set_title('$N$ =' + str(N) + r', $\\gamma$ = ' + str(g[i]) + r', $\\beta$ = ' + str(B[i]))\n",
    "\n",
    "plt.savefig(\"q3.pdf\")\n",
    "plt.savefig(\"q3.eps\")\n",
    "\n",
    "plt.show()\n",
    "\n",
    "    "
   ]
  },
  {
   "cell_type": "code",
   "execution_count": null,
   "metadata": {},
   "outputs": [],
   "source": []
  }
 ],
 "metadata": {
  "kernelspec": {
   "display_name": "Python 3",
   "language": "python",
   "name": "python3"
  },
  "language_info": {
   "codemirror_mode": {
    "name": "ipython",
    "version": 3
   },
   "file_extension": ".py",
   "mimetype": "text/x-python",
   "name": "python",
   "nbconvert_exporter": "python",
   "pygments_lexer": "ipython3",
   "version": "3.6.4"
  }
 },
 "nbformat": 4,
 "nbformat_minor": 2
}
